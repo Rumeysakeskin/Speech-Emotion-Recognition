{
 "cells": [
  {
   "cell_type": "code",
   "execution_count": 25,
   "id": "748f6fe0",
   "metadata": {},
   "outputs": [
    {
     "name": "stderr",
     "output_type": "stream",
     "text": [
      "Some weights of the model checkpoint at amiriparian/ExHuBERT were not used when initializing ExHuBERT: ['hubert.encoder.pos_conv_embed.conv.weight_g', 'hubert.encoder.pos_conv_embed.conv.weight_v']\n",
      "- This IS expected if you are initializing ExHuBERT from the checkpoint of a model trained on another task or with another architecture (e.g. initializing a BertForSequenceClassification model from a BertForPreTraining model).\n",
      "- This IS NOT expected if you are initializing ExHuBERT from the checkpoint of a model that you expect to be exactly identical (initializing a BertForSequenceClassification model from a BertForSequenceClassification model).\n",
      "Some weights of ExHuBERT were not initialized from the model checkpoint at amiriparian/ExHuBERT and are newly initialized: ['hubert.encoder.pos_conv_embed.conv.parametrizations.weight.original0', 'hubert.encoder.pos_conv_embed.conv.parametrizations.weight.original1']\n",
      "You should probably TRAIN this model on a down-stream task to be able to use it for predictions and inference.\n"
     ]
    },
    {
     "name": "stdout",
     "output_type": "stream",
     "text": [
      "[[0.   0.03 0.   0.97 0.   0.  ]]\n"
     ]
    }
   ],
   "source": [
    "import torch\n",
    "import torch.nn as nn\n",
    "from transformers import AutoModelForAudioClassification, Wav2Vec2FeatureExtractor\n",
    "\n",
    "\n",
    "# CONFIG and MODEL SETUP\n",
    "model_name = 'amiriparian/ExHuBERT'\n",
    "feature_extractor = Wav2Vec2FeatureExtractor.from_pretrained(\"facebook/hubert-base-ls960\")\n",
    "model = AutoModelForAudioClassification.from_pretrained(model_name, trust_remote_code=True,\n",
    "                                                        revision=\"b158d45ed8578432468f3ab8d46cbe5974380812\")\n",
    "\n",
    "# Freezing half of the encoder for further transfer learning\n",
    "model.freeze_og_encoder()\n",
    "\n",
    "sampling_rate = 16000\n",
    "device = torch.device(\"cuda\" if torch.cuda.is_available() else \"cpu\")\n",
    "model = model.to(device)\n",
    "\n",
    "\n",
    "\n",
    "# Example application from a local audiofile\n",
    "import numpy as np\n",
    "import librosa\n",
    "import torch.nn.functional as F\n",
    "# Sample taken from the Toronto emotional speech set (TESS) https://tspace.library.utoronto.ca/handle/1807/24487\n",
    "waveform, sr_wav = librosa.load(\"audio_002.wav\")\n",
    "# Max Padding to 3 Seconds at 16k sampling rate for the best results\n",
    "waveform = feature_extractor(waveform, sampling_rate=sampling_rate,padding = 'max_length',max_length = 48000)\n",
    "waveform = waveform['input_values'][0]\n",
    "waveform = waveform.reshape(1, -1)\n",
    "waveform = torch.from_numpy(waveform).to(device)\n",
    "with torch.no_grad():\n",
    "    output = model(waveform)\n",
    "    output = F.softmax(output.logits, dim = 1)\n",
    "    output = output.detach().cpu().numpy().round(2)\n",
    "    print(output)\n"
   ]
  },
  {
   "cell_type": "code",
   "execution_count": null,
   "id": "75876e72",
   "metadata": {},
   "outputs": [],
   "source": []
  }
 ],
 "metadata": {
  "kernelspec": {
   "display_name": "torchstt",
   "language": "python",
   "name": "torchstt"
  },
  "language_info": {
   "codemirror_mode": {
    "name": "ipython",
    "version": 3
   },
   "file_extension": ".py",
   "mimetype": "text/x-python",
   "name": "python",
   "nbconvert_exporter": "python",
   "pygments_lexer": "ipython3",
   "version": "3.10.12"
  }
 },
 "nbformat": 4,
 "nbformat_minor": 5
}
